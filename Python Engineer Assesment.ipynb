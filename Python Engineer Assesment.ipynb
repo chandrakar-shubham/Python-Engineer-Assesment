{
  "cells": [
    {
      "cell_type": "markdown",
      "metadata": {
        "id": "view-in-github",
        "colab_type": "text"
      },
      "source": [
        "<a href=\"https://colab.research.google.com/github/chandrakar-shubham/Python-Engineer-Assesment/blob/main/Python%20Engineer%20Assesment.ipynb\" target=\"_parent\"><img src=\"https://colab.research.google.com/assets/colab-badge.svg\" alt=\"Open In Colab\"/></a>"
      ]
    },
    {
      "cell_type": "markdown",
      "source": [
        "#Libraries to Import"
      ],
      "metadata": {
        "id": "vYzCGGVXIdai"
      }
    },
    {
      "cell_type": "code",
      "source": [
        "import pandas as pd\n",
        "import csv\n",
        "import requests\n",
        "import xml.etree.ElementTree as ET\n",
        "from bs4 import BeautifulSoup\n",
        "from zipfile import ZipFile\n",
        "import logging"
      ],
      "metadata": {
        "id": "m-dprgyTOU9b"
      },
      "execution_count": 118,
      "outputs": []
    },
    {
      "cell_type": "markdown",
      "source": [
        "#Created function\n",
        "\n",
        "1. download_file: Download any file with file name and url provided\n",
        "2. get_zip_url : Extract zip file from xml file\n",
        "3. create_csv : Creates CSV from XML File\n",
        "4. extract_zip : function to extract zip file to a directory"
      ],
      "metadata": {
        "id": "5wBX22VTIlFo"
      }
    },
    {
      "cell_type": "code",
      "source": [
        "def download_file(save_location,url,file_name):\n",
        "  \n",
        "  '''Download any file with file name and url provided ,\n",
        "     local_filename consists of save_location = location to save file after download\n",
        "     url = URL from which file will be downloaded\n",
        "     file_name = file name provided by user'''\n",
        "  \n",
        "  \n",
        "  \n",
        "  local_filename = save_location + file_name\n",
        "  #local_filename = '/content/drive/MyDrive/Python Engineer Assesment/'+ file_name\n",
        "  \n",
        "  \n",
        "  # NOTE the stream=True parameter below\n",
        "  with requests.get(url, stream=True) as r:\n",
        "    r.raise_for_status()\n",
        "    with open(local_filename, 'wb') as f:\n",
        "      for chunk in r.iter_content(chunk_size=1024): \n",
        "        # If you have chunk encoded response uncomment if\n",
        "        # and set chunk_size parameter to None.\n",
        "        #if chunk: \n",
        "        f.write(chunk)\n",
        "  return (local_filename)"
      ],
      "metadata": {
        "id": "Xcq44M7WPE-D"
      },
      "execution_count": 140,
      "outputs": []
    },
    {
      "cell_type": "code",
      "source": [
        "def get_zip_url(xml_file_path):\n",
        "  \n",
        "  '''Extract zip file from xml file'''\n",
        "  \n",
        "  \n",
        "  empty_list=[]\n",
        "  \n",
        "  f = open(xml_file_path, 'r')\n",
        "  \n",
        "  xml_file = f.read()\n",
        "  \n",
        "  soup = BeautifulSoup(xml_file, 'lxml')\n",
        "  \n",
        "  \n",
        "  for tag in soup.findAll(\"str\"):\n",
        "    #print(tag)\n",
        "    \n",
        "    if tag[\"name\"] == 'download_link':\n",
        "      empty_list.append(tag.text)\n",
        "  return empty_list\n",
        "  \n",
        "  f.close()\n"
      ],
      "metadata": {
        "id": "F8byuLZi-7Lf"
      },
      "execution_count": 120,
      "outputs": []
    },
    {
      "cell_type": "code",
      "source": [
        "def create_csv(xml_file, csv_path):\n",
        "    \"\"\" Creates CSV from XML File\n",
        "    Param(s):\n",
        "        xml_file (str)  :   Path of XML file\n",
        "        csv_path (str)  :   Path to write csv file\n",
        "    Return(s):\n",
        "        csv_file (str)  :   Absolute path of csv file\n",
        "    \"\"\"\n",
        "    try:\n",
        "        # Checking if the path exists or not\n",
        "        if not os.path.exists(csv_path):\n",
        "            # Creating the path\n",
        "            logging.warning(\"Creating CSV file path\")\n",
        "            os.makedirs(csv_path)\n",
        "\n",
        "        # Extracting the csv file name from xml file\n",
        "        csv_fname = xml_file.split(os.sep)[-1].split(\".\")[0] + \".csv\"\n",
        "\n",
        "        # Creating csv file path\n",
        "        csv_file = os.path.join(csv_path, csv_fname)\n",
        "\n",
        "        logging.warning(\"Loading the xml file\")\n",
        "        # Creating xml file itertor\n",
        "        xml_iter = ET.iterparse(xml_file, events=(\"start\",))\n",
        "\n",
        "        csv_columns = [\n",
        "            \"FinInstrmGnlAttrbts.Id\",\n",
        "            \"FinInstrmGnlAttrbts.FullNm\",\n",
        "            \"FinInstrmGnlAttrbts.ClssfctnTp\",\n",
        "            \"FinInstrmGnlAttrbts.CmmdtyDerivInd\",\n",
        "            \"FinInstrmGnlAttrbts.NtnlCcy\",\n",
        "            \"Issr\",\n",
        "        ]\n",
        "\n",
        "        # Creating empty dataframe with the required column names\n",
        "        df = pd.DataFrame(columns=csv_columns)\n",
        "\n",
        "        # List to store the extacted data\n",
        "        extracted_data = []\n",
        "\n",
        "        logging.warning(\"Parsing the xml file...\")\n",
        "        logging.warning(\"Extracting the required data from xml\")\n",
        "        # Traversing the xml data\n",
        "        for event, element in xml_iter:\n",
        "\n",
        "            # Checking for start of the tags\n",
        "            if event == \"start\":\n",
        "\n",
        "                # Checking for TermntdRcrd tag in which the required data is\n",
        "                if \"TermntdRcrd\" in element.tag:\n",
        "\n",
        "                    # Dictionary to store require data in single element\n",
        "                    data = {}\n",
        "\n",
        "                    # List of the required tags (FinInstrmGnlAttrbts, Issr)\n",
        "                    reqd_elements = [\n",
        "                        (elem.tag, elem)\n",
        "                        for elem in element\n",
        "                        if \"FinInstrmGnlAttrbts\" in elem.tag or \"Issr\" in elem.tag\n",
        "                    ]\n",
        "\n",
        "                    # Traversing through the required tags\n",
        "                    for tag, elem in reqd_elements:\n",
        "\n",
        "                        if \"FinInstrmGnlAttrbts\" in tag:\n",
        "\n",
        "                            # Traversing through the child elements of\n",
        "                            # FinInstrmGnlAttrbts element\n",
        "                            for child in elem:\n",
        "\n",
        "                                # Adding the extrcated data in the dictionary\n",
        "                                if \"Id\" in child.tag:\n",
        "                                    data[csv_columns[0]] = child.text\n",
        "                                elif \"FullNm\" in child.tag:\n",
        "                                    data[csv_columns[1]] = child.text\n",
        "                                elif \"ClssfctnTp\" in child.tag:\n",
        "                                    data[csv_columns[2]] = child.text\n",
        "                                elif \"CmmdtyDerivInd\" in child.tag:\n",
        "                                    data[csv_columns[3]] = child.text\n",
        "                                elif \"NtnlCcy\" in child.tag:\n",
        "                                    data[csv_columns[4]] = child.text\n",
        "\n",
        "                        # Extracting Issr Tag value\n",
        "                        else:\n",
        "                            data[csv_columns[5]] = child.text\n",
        "\n",
        "                    # Appending the single element extracted data in the list\n",
        "                    extracted_data.append(data)\n",
        "\n",
        "        logging.warning(\"All the required data extracted from xml file\")\n",
        "\n",
        "        # Appending the extracted data in the data frame\n",
        "        df = df.append(extracted_data, ignore_index=True)\n",
        "\n",
        "        logging.warning(\"Dropping empty rows\")\n",
        "        # Removes empty rows from the dataframe\n",
        "        df.dropna(inplace=True)\n",
        "\n",
        "        logging.warning(\"Creating the CSV file\")\n",
        "        # Creates csv file from the dataframe\n",
        "        df.to_csv(csv_file, index=False)\n",
        "\n",
        "        # returning the csv file path\n",
        "        return csv_file\n",
        "\n",
        "    except Exception as e:\n",
        "        print(f\"Error occurred while extracting - {str(e)}\")\n"
      ],
      "metadata": {
        "id": "EXR76Lin8uC6"
      },
      "execution_count": 121,
      "outputs": []
    },
    {
      "cell_type": "code",
      "source": [
        "def extract_zip(url_zip,save_location):\n",
        "  '''function to extract zip file to a directory'''\n",
        "\n",
        "\n",
        "  # specifying the zip file name\n",
        "  file_name = url_zip\n",
        "  loc = save_location\n",
        "  \n",
        "  # opening the zip file in READ mode\n",
        "  with ZipFile(file_name, 'r') as zip:\n",
        "    # printing all the contents of the zip file\n",
        "    zip.printdir()\n",
        "    \n",
        "    # extracting all the files\n",
        "    print('Extracting all the files now...')\n",
        "    zip.extractall(path=loc)\n",
        "    print('Done!')"
      ],
      "metadata": {
        "id": "_qDuLGy0Mj3B"
      },
      "execution_count": 122,
      "outputs": []
    },
    {
      "cell_type": "markdown",
      "source": [
        "#Implementation of instructions"
      ],
      "metadata": {
        "id": "eDcK5XF7JqAZ"
      }
    },
    {
      "cell_type": "code",
      "execution_count": 123,
      "metadata": {
        "id": "7cBYPiCwB6IK"
      },
      "outputs": [],
      "source": [
        "#url_path from where xml file to be downloaded\n",
        "\n",
        "\n",
        "url_path='https://registers.esma.europa.eu/solr/esma_registers_firds_files/select?q=*&fq=publication_date:%5B2021-01-17T00:00:00Z+TO+2021-01-19T23:59:59Z%5D&wt=xml&indent=true&start=0&rows=100'"
      ]
    },
    {
      "cell_type": "code",
      "source": [
        "#save_location for xml file after download\n",
        "\n",
        "\n",
        "save_location = '/content/drive/MyDrive/Python Engineer Assesment/'"
      ],
      "metadata": {
        "id": "angc8e0nC0qx"
      },
      "execution_count": 124,
      "outputs": []
    },
    {
      "cell_type": "code",
      "source": [
        "#xml_location after being downloaded\n",
        "\n",
        "xml_loc = save_location + 'xml_file.xml'"
      ],
      "metadata": {
        "id": "h0R80XCA_ZBx"
      },
      "execution_count": 125,
      "outputs": []
    },
    {
      "cell_type": "code",
      "source": [
        "#download and save xml_file to directory\n",
        "download_file(save_location,url_path,'xml_file.xml')"
      ],
      "metadata": {
        "id": "vhSMw53hMKkE",
        "colab": {
          "base_uri": "https://localhost:8080/",
          "height": 35
        },
        "outputId": "e7102f78-19b8-4595-a1ab-ae0c6fc342b7"
      },
      "execution_count": 126,
      "outputs": [
        {
          "output_type": "execute_result",
          "data": {
            "text/plain": [
              "'/content/drive/MyDrive/Python Engineer Assesment/xml_file.xml'"
            ],
            "application/vnd.google.colaboratory.intrinsic+json": {
              "type": "string"
            }
          },
          "metadata": {},
          "execution_count": 126
        }
      ]
    },
    {
      "cell_type": "code",
      "source": [
        "zip_url_list = get_zip_url(xml_loc)"
      ],
      "metadata": {
        "id": "SyI0yfuJ_SUZ"
      },
      "execution_count": 127,
      "outputs": []
    },
    {
      "cell_type": "code",
      "source": [
        "zip_url_list"
      ],
      "metadata": {
        "colab": {
          "base_uri": "https://localhost:8080/"
        },
        "id": "fbeDqL5aAIp3",
        "outputId": "08d763c5-a088-450f-ecb5-596c693bd4cb"
      },
      "execution_count": 128,
      "outputs": [
        {
          "output_type": "execute_result",
          "data": {
            "text/plain": [
              "['http://firds.esma.europa.eu/firds/DLTINS_20210117_01of01.zip',\n",
              " 'http://firds.esma.europa.eu/firds/DLTINS_20210119_01of02.zip',\n",
              " 'http://firds.esma.europa.eu/firds/DLTINS_20210119_02of02.zip',\n",
              " 'http://firds.esma.europa.eu/firds/DLTINS_20210118_01of01.zip']"
            ]
          },
          "metadata": {},
          "execution_count": 128
        }
      ]
    },
    {
      "cell_type": "code",
      "source": [
        "#download zip file to a directory\n",
        "\n",
        "\n",
        "for i in range(len(zip_url_list)):\n",
        "  download_file(save_location,zip_url_list[i],'zipfile'+str(i))"
      ],
      "metadata": {
        "id": "n-vKxo8NCi1P"
      },
      "execution_count": 129,
      "outputs": []
    },
    {
      "cell_type": "code",
      "source": [
        "#extract content of all zip files in a directory\n",
        "\n",
        "for i in range(4):\n",
        "  extract_zip(loc+'/zipfile'+str(i),save_location)"
      ],
      "metadata": {
        "id": "Gy5Y1cMRM4PF",
        "colab": {
          "base_uri": "https://localhost:8080/"
        },
        "outputId": "b0bec732-072d-4f1e-fcd3-9f8fa8a98e88"
      },
      "execution_count": 130,
      "outputs": [
        {
          "output_type": "stream",
          "name": "stdout",
          "text": [
            "File Name                                             Modified             Size\n",
            "DLTINS_20210117_01of01.xml                     2021-01-17 01:17:12    143278061\n",
            "Extracting all the files now...\n",
            "Done!\n",
            "File Name                                             Modified             Size\n",
            "DLTINS_20210119_01of02.xml                     2021-01-19 03:21:08    521464972\n",
            "Extracting all the files now...\n",
            "Done!\n",
            "File Name                                             Modified             Size\n",
            "DLTINS_20210119_02of02.xml                     2021-01-19 03:21:56    363082618\n",
            "Extracting all the files now...\n",
            "Done!\n",
            "File Name                                             Modified             Size\n",
            "DLTINS_20210118_01of01.xml                     2021-01-18 01:21:22      1439631\n",
            "Extracting all the files now...\n",
            "Done!\n"
          ]
        }
      ]
    },
    {
      "cell_type": "code",
      "source": [
        "#input_extracted_xml consist list of xml files extracted from zip\n",
        "\n",
        "\n",
        "input_extracted_xml=[\"/content/drive/MyDrive/Python Engineer Assesment/DLTINS_20210118_01of01.xml\",\n",
        "                     \"/content/drive/MyDrive/Python Engineer Assesment/DLTINS_20210118_01of01.xml\",\n",
        "                     \"/content/drive/MyDrive/Python Engineer Assesment/DLTINS_20210119_01of02.xml\",\n",
        "                     \"/content/drive/MyDrive/Python Engineer Assesment/DLTINS_20210119_02of02.xml\"]\n",
        "\n",
        "\n",
        "#output_path_converted_csv is path where converted csv wil be saved\n",
        "\n",
        "\n",
        "\n",
        "output_path_converted_csv=\"/content/drive/MyDrive/Python Engineer Assesment/\""
      ],
      "metadata": {
        "id": "-ZUUIdg87YK7"
      },
      "execution_count": 131,
      "outputs": []
    },
    {
      "cell_type": "code",
      "source": [
        "#importing os function\n",
        "import os"
      ],
      "metadata": {
        "id": "byrt0UrM_5F5"
      },
      "execution_count": 132,
      "outputs": []
    },
    {
      "cell_type": "code",
      "source": [
        "# for loop to covert all xml files extracted from zip\n",
        "\n",
        "\n",
        "for link in input_extracted_xml:\n",
        "  print(link)\n",
        "\n",
        "  #calling create_csv function to convert xml to csv\n",
        "  \n",
        "  create_csv(link, output_path_converted_csv)\n"
      ],
      "metadata": {
        "colab": {
          "base_uri": "https://localhost:8080/"
        },
        "id": "mUfPvm_294bL",
        "outputId": "75ff8da8-47ba-4cf0-e8cc-706c859955bb"
      },
      "execution_count": 133,
      "outputs": [
        {
          "output_type": "stream",
          "name": "stderr",
          "text": [
            "WARNING:root:Loading the xml file\n",
            "WARNING:root:Parsing the xml file...\n",
            "WARNING:root:Extracting the required data from xml\n"
          ]
        },
        {
          "output_type": "stream",
          "name": "stdout",
          "text": [
            "/content/drive/MyDrive/Python Engineer Assesment/DLTINS_20210118_01of01.xml\n"
          ]
        },
        {
          "output_type": "stream",
          "name": "stderr",
          "text": [
            "WARNING:root:All the required data extracted from xml file\n",
            "WARNING:root:Dropping empty rows\n",
            "WARNING:root:Creating the CSV file\n",
            "WARNING:root:Loading the xml file\n",
            "WARNING:root:Parsing the xml file...\n",
            "WARNING:root:Extracting the required data from xml\n"
          ]
        },
        {
          "output_type": "stream",
          "name": "stdout",
          "text": [
            "/content/drive/MyDrive/Python Engineer Assesment/DLTINS_20210118_01of01.xml\n"
          ]
        },
        {
          "output_type": "stream",
          "name": "stderr",
          "text": [
            "WARNING:root:All the required data extracted from xml file\n",
            "WARNING:root:Dropping empty rows\n",
            "WARNING:root:Creating the CSV file\n",
            "WARNING:root:Loading the xml file\n"
          ]
        },
        {
          "output_type": "stream",
          "name": "stdout",
          "text": [
            "/content/drive/MyDrive/Python Engineer Assesment/DLTINS_20210119_01of02.xml\n"
          ]
        },
        {
          "output_type": "stream",
          "name": "stderr",
          "text": [
            "WARNING:root:Parsing the xml file...\n",
            "WARNING:root:Extracting the required data from xml\n",
            "WARNING:root:All the required data extracted from xml file\n",
            "WARNING:root:Dropping empty rows\n",
            "WARNING:root:Creating the CSV file\n",
            "WARNING:root:Loading the xml file\n",
            "WARNING:root:Parsing the xml file...\n",
            "WARNING:root:Extracting the required data from xml\n"
          ]
        },
        {
          "output_type": "stream",
          "name": "stdout",
          "text": [
            "/content/drive/MyDrive/Python Engineer Assesment/DLTINS_20210119_02of02.xml\n"
          ]
        },
        {
          "output_type": "stream",
          "name": "stderr",
          "text": [
            "WARNING:root:All the required data extracted from xml file\n",
            "WARNING:root:Dropping empty rows\n",
            "WARNING:root:Creating the CSV file\n"
          ]
        }
      ]
    },
    {
      "cell_type": "markdown",
      "source": [
        "#Check Csv file"
      ],
      "metadata": {
        "id": "eIburtOEIYOg"
      }
    },
    {
      "cell_type": "code",
      "source": [
        "df=pd.read_csv('/content/drive/MyDrive/Python Engineer Assesment/DLTINS_20210119_01of02.csv')"
      ],
      "metadata": {
        "id": "dddVkJ8mHwap"
      },
      "execution_count": 137,
      "outputs": []
    },
    {
      "cell_type": "code",
      "source": [
        "df.info()"
      ],
      "metadata": {
        "colab": {
          "base_uri": "https://localhost:8080/"
        },
        "id": "e6QM2gZ_H20p",
        "outputId": "98f4082c-6bf1-47b8-c54b-9f079cc40377"
      },
      "execution_count": 138,
      "outputs": [
        {
          "output_type": "stream",
          "name": "stdout",
          "text": [
            "<class 'pandas.core.frame.DataFrame'>\n",
            "RangeIndex: 23316 entries, 0 to 23315\n",
            "Data columns (total 6 columns):\n",
            " #   Column                              Non-Null Count  Dtype \n",
            "---  ------                              --------------  ----- \n",
            " 0   FinInstrmGnlAttrbts.Id              23316 non-null  object\n",
            " 1   FinInstrmGnlAttrbts.FullNm          23316 non-null  object\n",
            " 2   FinInstrmGnlAttrbts.ClssfctnTp      23316 non-null  object\n",
            " 3   FinInstrmGnlAttrbts.CmmdtyDerivInd  23316 non-null  bool  \n",
            " 4   FinInstrmGnlAttrbts.NtnlCcy         23316 non-null  object\n",
            " 5   Issr                                23316 non-null  bool  \n",
            "dtypes: bool(2), object(4)\n",
            "memory usage: 774.3+ KB\n"
          ]
        }
      ]
    },
    {
      "cell_type": "code",
      "source": [
        "df.head(2)"
      ],
      "metadata": {
        "colab": {
          "base_uri": "https://localhost:8080/",
          "height": 191
        },
        "id": "Bm9JeKUZH9GY",
        "outputId": "617dda35-f6c8-4a77-9363-c31453960b62"
      },
      "execution_count": 139,
      "outputs": [
        {
          "output_type": "execute_result",
          "data": {
            "text/plain": [
              "  FinInstrmGnlAttrbts.Id                         FinInstrmGnlAttrbts.FullNm  \\\n",
              "0           DE000MA40TG3  Open End Turbo Long Fresenius emittiert von Mo...   \n",
              "1           DE000MA40TH1  Open End Turbo Long Fresenius emittiert von Mo...   \n",
              "\n",
              "  FinInstrmGnlAttrbts.ClssfctnTp  FinInstrmGnlAttrbts.CmmdtyDerivInd  \\\n",
              "0                         RFSTCA                               False   \n",
              "1                         RFSTCA                               False   \n",
              "\n",
              "  FinInstrmGnlAttrbts.NtnlCcy   Issr  \n",
              "0                         EUR  False  \n",
              "1                         EUR  False  "
            ],
            "text/html": [
              "\n",
              "  <div id=\"df-22720f51-de74-4480-ba8c-19317710b851\">\n",
              "    <div class=\"colab-df-container\">\n",
              "      <div>\n",
              "<style scoped>\n",
              "    .dataframe tbody tr th:only-of-type {\n",
              "        vertical-align: middle;\n",
              "    }\n",
              "\n",
              "    .dataframe tbody tr th {\n",
              "        vertical-align: top;\n",
              "    }\n",
              "\n",
              "    .dataframe thead th {\n",
              "        text-align: right;\n",
              "    }\n",
              "</style>\n",
              "<table border=\"1\" class=\"dataframe\">\n",
              "  <thead>\n",
              "    <tr style=\"text-align: right;\">\n",
              "      <th></th>\n",
              "      <th>FinInstrmGnlAttrbts.Id</th>\n",
              "      <th>FinInstrmGnlAttrbts.FullNm</th>\n",
              "      <th>FinInstrmGnlAttrbts.ClssfctnTp</th>\n",
              "      <th>FinInstrmGnlAttrbts.CmmdtyDerivInd</th>\n",
              "      <th>FinInstrmGnlAttrbts.NtnlCcy</th>\n",
              "      <th>Issr</th>\n",
              "    </tr>\n",
              "  </thead>\n",
              "  <tbody>\n",
              "    <tr>\n",
              "      <th>0</th>\n",
              "      <td>DE000MA40TG3</td>\n",
              "      <td>Open End Turbo Long Fresenius emittiert von Mo...</td>\n",
              "      <td>RFSTCA</td>\n",
              "      <td>False</td>\n",
              "      <td>EUR</td>\n",
              "      <td>False</td>\n",
              "    </tr>\n",
              "    <tr>\n",
              "      <th>1</th>\n",
              "      <td>DE000MA40TH1</td>\n",
              "      <td>Open End Turbo Long Fresenius emittiert von Mo...</td>\n",
              "      <td>RFSTCA</td>\n",
              "      <td>False</td>\n",
              "      <td>EUR</td>\n",
              "      <td>False</td>\n",
              "    </tr>\n",
              "  </tbody>\n",
              "</table>\n",
              "</div>\n",
              "      <button class=\"colab-df-convert\" onclick=\"convertToInteractive('df-22720f51-de74-4480-ba8c-19317710b851')\"\n",
              "              title=\"Convert this dataframe to an interactive table.\"\n",
              "              style=\"display:none;\">\n",
              "        \n",
              "  <svg xmlns=\"http://www.w3.org/2000/svg\" height=\"24px\"viewBox=\"0 0 24 24\"\n",
              "       width=\"24px\">\n",
              "    <path d=\"M0 0h24v24H0V0z\" fill=\"none\"/>\n",
              "    <path d=\"M18.56 5.44l.94 2.06.94-2.06 2.06-.94-2.06-.94-.94-2.06-.94 2.06-2.06.94zm-11 1L8.5 8.5l.94-2.06 2.06-.94-2.06-.94L8.5 2.5l-.94 2.06-2.06.94zm10 10l.94 2.06.94-2.06 2.06-.94-2.06-.94-.94-2.06-.94 2.06-2.06.94z\"/><path d=\"M17.41 7.96l-1.37-1.37c-.4-.4-.92-.59-1.43-.59-.52 0-1.04.2-1.43.59L10.3 9.45l-7.72 7.72c-.78.78-.78 2.05 0 2.83L4 21.41c.39.39.9.59 1.41.59.51 0 1.02-.2 1.41-.59l7.78-7.78 2.81-2.81c.8-.78.8-2.07 0-2.86zM5.41 20L4 18.59l7.72-7.72 1.47 1.35L5.41 20z\"/>\n",
              "  </svg>\n",
              "      </button>\n",
              "      \n",
              "  <style>\n",
              "    .colab-df-container {\n",
              "      display:flex;\n",
              "      flex-wrap:wrap;\n",
              "      gap: 12px;\n",
              "    }\n",
              "\n",
              "    .colab-df-convert {\n",
              "      background-color: #E8F0FE;\n",
              "      border: none;\n",
              "      border-radius: 50%;\n",
              "      cursor: pointer;\n",
              "      display: none;\n",
              "      fill: #1967D2;\n",
              "      height: 32px;\n",
              "      padding: 0 0 0 0;\n",
              "      width: 32px;\n",
              "    }\n",
              "\n",
              "    .colab-df-convert:hover {\n",
              "      background-color: #E2EBFA;\n",
              "      box-shadow: 0px 1px 2px rgba(60, 64, 67, 0.3), 0px 1px 3px 1px rgba(60, 64, 67, 0.15);\n",
              "      fill: #174EA6;\n",
              "    }\n",
              "\n",
              "    [theme=dark] .colab-df-convert {\n",
              "      background-color: #3B4455;\n",
              "      fill: #D2E3FC;\n",
              "    }\n",
              "\n",
              "    [theme=dark] .colab-df-convert:hover {\n",
              "      background-color: #434B5C;\n",
              "      box-shadow: 0px 1px 3px 1px rgba(0, 0, 0, 0.15);\n",
              "      filter: drop-shadow(0px 1px 2px rgba(0, 0, 0, 0.3));\n",
              "      fill: #FFFFFF;\n",
              "    }\n",
              "  </style>\n",
              "\n",
              "      <script>\n",
              "        const buttonEl =\n",
              "          document.querySelector('#df-22720f51-de74-4480-ba8c-19317710b851 button.colab-df-convert');\n",
              "        buttonEl.style.display =\n",
              "          google.colab.kernel.accessAllowed ? 'block' : 'none';\n",
              "\n",
              "        async function convertToInteractive(key) {\n",
              "          const element = document.querySelector('#df-22720f51-de74-4480-ba8c-19317710b851');\n",
              "          const dataTable =\n",
              "            await google.colab.kernel.invokeFunction('convertToInteractive',\n",
              "                                                     [key], {});\n",
              "          if (!dataTable) return;\n",
              "\n",
              "          const docLinkHtml = 'Like what you see? Visit the ' +\n",
              "            '<a target=\"_blank\" href=https://colab.research.google.com/notebooks/data_table.ipynb>data table notebook</a>'\n",
              "            + ' to learn more about interactive tables.';\n",
              "          element.innerHTML = '';\n",
              "          dataTable['output_type'] = 'display_data';\n",
              "          await google.colab.output.renderOutput(dataTable, element);\n",
              "          const docLink = document.createElement('div');\n",
              "          docLink.innerHTML = docLinkHtml;\n",
              "          element.appendChild(docLink);\n",
              "        }\n",
              "      </script>\n",
              "    </div>\n",
              "  </div>\n",
              "  "
            ]
          },
          "metadata": {},
          "execution_count": 139
        }
      ]
    }
  ],
  "metadata": {
    "colab": {
      "collapsed_sections": [],
      "provenance": [],
      "mount_file_id": "14cD1DoH-LggB9M_GWm6qdhJCrD6FrqTS",
      "authorship_tag": "ABX9TyPDnXMY7rbhaAkhd3VkPqdy",
      "include_colab_link": true
    },
    "kernelspec": {
      "display_name": "Python 3",
      "name": "python3"
    },
    "language_info": {
      "name": "python"
    }
  },
  "nbformat": 4,
  "nbformat_minor": 0
}